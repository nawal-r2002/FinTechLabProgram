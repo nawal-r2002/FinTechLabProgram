{
 "cells": [
  {
   "cell_type": "markdown",
   "metadata": {},
   "source": [
    "# **Task 1.1 - Download Files Scipt**\n",
    "Recieve 10-K Files from Adobe, Intel Corporation and Microsoft Corp"
   ]
  },
  {
   "cell_type": "code",
   "execution_count": 79,
   "metadata": {},
   "outputs": [],
   "source": [
    "from sec_edgar_downloader import Downloader\n",
    "import os\n",
    "from bs4 import BeautifulSoup\n",
    "\n",
    "dl = Downloader(\"Company Name\", \"my.email@domain.com\")\n",
    "companies = [\"ADBE\", \"INTC\", \"MSFT\"]\n",
    "subdirectories = []"
   ]
  },
  {
   "cell_type": "code",
   "execution_count": 80,
   "metadata": {},
   "outputs": [
    {
     "name": "stdout",
     "output_type": "stream",
     "text": [
      "Error occurred while downloading filing for accession number {}: {} 0001032210-00-001961 404 Client Error: Not Found for url: https://www.sec.gov/Archives/edgar/data/789019/000103221000001961/0001.txt\n"
     ]
    }
   ],
   "source": [
    "for company in companies:\n",
    "    dl.get(\"10-K\", company, after = \"1995-01-01\", before = \"2024-01-01\", download_details = True)\n",
    "    org_path = \"sec-edgar-filings/\"+company+\"/10-K/\"\n",
    "\n",
    "    for fileName in os.listdir(org_path):\n",
    "        if fileName.startswith(\"000\"):\n",
    "            newName = fileName[11:]\n",
    "            if (newName[0] == '9'):\n",
    "                newName = \"19\" + newName \n",
    "            else:\n",
    "                newName = \"20\" + newName\n",
    "\n",
    "            path = org_path + fileName\n",
    "            path_list = os.listdir(path)\n",
    "            new_path= org_path + newName\n",
    "\n",
    "            if (os.path.exists(new_path)):\n",
    "                path_dir = os.listdir(new_path)\n",
    "                if ((newName[2] == \"9\" or newName[2] == \"0\") and len(path_dir) == 2):\n",
    "                    if (os.path.exists(new_path+\"/\"+path_list[1])):\n",
    "                        os.remove(new_path+\"/\"+path_list[1])\n",
    "                    elif (os.path.exists(new_path+\"/\"+path_list[0])):\n",
    "                        os.remove(new_path+\"/\"+path_list[0])\n",
    "                if (len(path_list) == 2):\n",
    "                    os.remove(path+\"/\"+path_list[1])\n",
    "                os.remove(path+\"/\"+path_list[0])\n",
    "                os.rmdir(path)\n",
    "            else:\n",
    "                os.rename(path, new_path)\n",
    "                if (len(path_list) == 2):\n",
    "                    if (newName[2] == \"9\" or newName[2] == \"0\"):\n",
    "                        os.remove(new_path+\"/\"+path_list[1])\n",
    "                    else:\n",
    "                        os.remove(new_path+\"/\"+path_list[0])\n",
    "\n",
    "    temp = [d for d in os.listdir(org_path) if os.path.isdir(os.path.join(org_path, d))]\n",
    "    for i in range(len(temp)):\n",
    "        subdirectories.append(temp[i])"
   ]
  },
  {
   "cell_type": "markdown",
   "metadata": {},
   "source": [
    "## **Make Files Readable for Interpretation**"
   ]
  },
  {
   "cell_type": "code",
   "execution_count": 81,
   "metadata": {},
   "outputs": [],
   "source": [
    "companyNum = 0\n",
    "year = 1995\n",
    "input_dirs = []\n",
    "output_path = \"10-K Files\"\n",
    "\n",
    "for index, subdirectory in enumerate(subdirectories):\n",
    "    if (index % 29 == 0 and index != 0):\n",
    "        companyNum = companyNum + 1\n",
    "    \n",
    "    path = \"sec-edgar-filings/\"+companies[companyNum]+\"/10-K/\"+subdirectory+\"/\"\n",
    "    curr_dir = os.listdir(path)\n",
    "    path = path+curr_dir[0]\n",
    "    \n",
    "    # Open and read the content of file\n",
    "    with open(path, 'r', encoding='utf-8') as file:\n",
    "        filing_content = file.read()\n",
    "\n",
    "    soup = BeautifulSoup(filing_content, 'html.parser')\n",
    "\n",
    "    # Extract the entire text content\n",
    "    entire_content = soup.get_text()\n",
    "\n",
    "    #Save the content to a text file with a unique name\n",
    "    output_file_name = f\"/10k_{year}.txt\"  # Unique name based on index\n",
    "\n",
    "    if (year + 1 < 2024):\n",
    "        year += 1\n",
    "    else:\n",
    "        year = 1995\n",
    "\n",
    "    if not os.path.exists(output_path):\n",
    "        os.mkdir(output_path)\n",
    "\n",
    "    company_subdir = os.path.join(output_path, companies[companyNum])\n",
    "    if not os.path.exists(company_subdir):\n",
    "        os.mkdir(company_subdir)\n",
    "\n",
    "    output_path = company_subdir\n",
    "    output_file_path = output_path + output_file_name\n",
    "    input_dirs.append(output_path)\n",
    "\n",
    "    with open(output_file_path, 'w', encoding='utf-8') as out_file:\n",
    "        out_file.write(entire_content)"
   ]
  },
  {
   "cell_type": "markdown",
   "metadata": {},
   "source": [
    "# **Task 1.2**"
   ]
  },
  {
   "cell_type": "code",
   "execution_count": 82,
   "metadata": {},
   "outputs": [],
   "source": [
    "import mediapipe as mp\n",
    "import matplotlib as plt\n",
    "import seaborn as sb"
   ]
  },
  {
   "cell_type": "code",
   "execution_count": 83,
   "metadata": {},
   "outputs": [
    {
     "ename": "SyntaxError",
     "evalue": "invalid syntax (3367875587.py, line 1)",
     "output_type": "error",
     "traceback": [
      "\u001b[1;36m  Cell \u001b[1;32mIn[83], line 1\u001b[1;36m\u001b[0m\n\u001b[1;33m    import {FilesetResolver, LlmInference} from 'https://cdn.jsdelivr.net/npm/@mediapipe/tasks-genai';\u001b[0m\n\u001b[1;37m           ^\u001b[0m\n\u001b[1;31mSyntaxError\u001b[0m\u001b[1;31m:\u001b[0m invalid syntax\n"
     ]
    }
   ],
   "source": [
    "from transformers import GPT2LMHeadModel, GPT2Tokenizer\n",
    "\n",
    "modelName = \"gpt2\"_\n",
    "tokenizer = GPT2Tokenizer.from_pretrained(modelName)\n",
    "model = GPT2LMHeadModel.from_pretrained(modelName)\n",
    "\n"
   ]
  },
  {
   "cell_type": "markdown",
   "metadata": {},
   "source": [
    "# **Task 1.3**"
   ]
  }
 ],
 "metadata": {
  "kernelspec": {
   "display_name": "Python 3",
   "language": "python",
   "name": "python3"
  },
  "language_info": {
   "codemirror_mode": {
    "name": "ipython",
    "version": 3
   },
   "file_extension": ".py",
   "mimetype": "text/x-python",
   "name": "python",
   "nbconvert_exporter": "python",
   "pygments_lexer": "ipython3",
   "version": "3.9.6"
  }
 },
 "nbformat": 4,
 "nbformat_minor": 2
}
