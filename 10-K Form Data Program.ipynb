{
 "cells": [
  {
   "cell_type": "markdown",
   "metadata": {},
   "source": [
    "# **Task 1.1 - Download Files Scipt**\n",
    "Recieve 10-K Files from Adobe, Intel Corporation and Microsoft Corp"
   ]
  },
  {
   "cell_type": "code",
   "execution_count": 79,
   "metadata": {},
   "outputs": [],
   "source": [
    "from sec_edgar_downloader import Downloader\n",
    "import os\n",
    "from bs4 import BeautifulSoup\n",
    "\n",
    "dl = Downloader(\"Company Name\", \"my.email@domain.com\")\n",
    "companies = [\"ADBE\", \"INTC\", \"MSFT\"]\n",
    "subdirectories = []"
   ]
  },
  {
   "cell_type": "code",
   "execution_count": null,
   "metadata": {},
   "outputs": [],
   "source": [
    "for company in companies:\n",
    "    dl.get(\"10-K\", company, after = \"1995-01-01\", before = \"2024-01-01\", download_details = True)\n",
    "    org_path = \"sec-edgar-filings/\"+company+\"/10-K/\"\n",
    "\n",
    "    for fileName in os.listdir(org_path):\n",
    "        if fileName.startswith(\"000\"):\n",
    "            newName = fileName[11:]\n",
    "            if (newName[0] == '9'):\n",
    "                newName = \"19\" + newName \n",
    "            else:\n",
    "                newName = \"20\" + newName\n",
    "\n",
    "            path = org_path + fileName\n",
    "            path_list = os.listdir(path)\n",
    "            new_path= org_path + newName\n",
    "\n",
    "            if (os.path.exists(new_path)):\n",
    "                path_dir = os.listdir(new_path)\n",
    "                if ((newName[2] == \"9\" or newName[2] == \"0\") and len(path_dir) == 2):\n",
    "                    if (os.path.exists(new_path+\"/\"+path_list[1])):\n",
    "                        os.remove(new_path+\"/\"+path_list[1])\n",
    "                    elif (os.path.exists(new_path+\"/\"+path_list[0])):\n",
    "                        os.remove(new_path+\"/\"+path_list[0])\n",
    "                if (len(path_list) == 2):\n",
    "                    os.remove(path+\"/\"+path_list[1])\n",
    "                os.remove(path+\"/\"+path_list[0])\n",
    "                os.rmdir(path)\n",
    "            else:\n",
    "                os.rename(path, new_path)\n",
    "                if (len(path_list) == 2):\n",
    "                    if (newName[2] == \"9\" or newName[2] == \"0\"):\n",
    "                        os.remove(new_path+\"/\"+path_list[1])\n",
    "                    else:\n",
    "                        os.remove(new_path+\"/\"+path_list[0])\n",
    "\n",
    "    temp = [d for d in os.listdir(org_path) if os.path.isdir(os.path.join(org_path, d))]\n",
    "    for i in range(len(temp)):\n",
    "        subdirectories.append(temp[i])"
   ]
  },
  {
   "cell_type": "markdown",
   "metadata": {},
   "source": [
    "## **Make Files Readable for Interpretation**"
   ]
  },
  {
   "cell_type": "code",
   "execution_count": 81,
   "metadata": {},
   "outputs": [],
   "source": [
    "companyNum = 0\n",
    "year = 1995\n",
    "input_dirs = []\n",
    "years = []\n",
    "years.append(year)\n",
    "output_path = \"10-K Files\"\n",
    "\n",
    "for index, subdirectory in enumerate(subdirectories):\n",
    "    if (index % 29 == 0 and index != 0):\n",
    "        companyNum = companyNum + 1\n",
    "    \n",
    "    path = \"sec-edgar-filings/\"+companies[companyNum]+\"/10-K/\"+subdirectory+\"/\"\n",
    "    curr_dir = os.listdir(path)\n",
    "    path = path+curr_dir[0]\n",
    "    \n",
    "    # Open and read the content of file\n",
    "    with open(path, 'r', encoding='utf-8') as file:\n",
    "        filing_content = file.read()\n",
    "\n",
    "    soup = BeautifulSoup(filing_content, 'html.parser')\n",
    "\n",
    "    # Extract the entire text content\n",
    "    entire_content = soup.get_text()\n",
    "\n",
    "    #Save the content to a text file with a unique name\n",
    "    output_file_name = f\"/10k_{year}.txt\"  # Unique name based on index\n",
    "\n",
    "    if (year + 1 < 2024):\n",
    "        year += 1\n",
    "        if (year not in years):\n",
    "            years.append(year)\n",
    "    else:\n",
    "        year = 1995\n",
    "    \n",
    "    if not os.path.exists(output_path):\n",
    "        os.mkdir(output_path)\n",
    "\n",
    "    company_subdir = os.path.join(output_path, companies[companyNum])\n",
    "    if not os.path.exists(company_subdir):\n",
    "        os.mkdir(company_subdir)\n",
    "\n",
    "    output_path = company_subdir\n",
    "    output_file_path = output_path + output_file_name\n",
    "    if (output_path not in input_dirs):\n",
    "        input_dirs.append(output_path)\n",
    "\n",
    "    with open(output_file_path, 'w', encoding='utf-8') as out_file:\n",
    "        out_file.write(entire_content)"
   ]
  },
  {
   "cell_type": "markdown",
   "metadata": {},
   "source": [
    "# **Task 1.2**"
   ]
  },
  {
   "cell_type": "code",
   "execution_count": null,
   "metadata": {},
   "outputs": [],
   "source": []
  },
  {
   "cell_type": "markdown",
   "metadata": {},
   "source": [
    "netRev = {}\n",
    "opsIncome = {}\n",
    "\n",
    "for company in companies:\n",
    "    netRev[company] = []\n",
    "    opsIncome[company] = []\n",
    "\n",
    "print(netRev)\n",
    "print(opsIncome)"
   ]
  },
  {
   "cell_type": "markdown",
   "metadata": {},
   "source": [
    "Looking for the factors Net Revenue and Operations Income\n",
    "\n",
    "Keywords to Search for is \"(In Millions, Except Per Share Amounts)\"\n",
    "\n",
    "Look for the first occurence of a dollar sign after finding all keywords and factors"
   ]
  },
  {
   "cell_type": "code",
   "execution_count": null,
   "metadata": {},
   "outputs": [],
   "source": [
    "from transformers import AutoModelForCausalLM, AutoTokenizer\n",
    "import torch\n",
    "\n",
    "device = \"cuda\" if torch.cuda.is_available() else \"cpu\"\n",
    "\n",
    "tokenizer = AutoTokenizer.from_pretrained(\"facebook/opt-1.3b\")\n",
    "inputs = tokenizer(\"Einstein's theory of relativity states\", return_tensors=\"pt\").to(device)\n",
    "\n",
    "model = AutoModelForCausalLM.from_pretrained(\"facebook/opt-1.3b\").to(device)\n",
    "assistant_model = AutoModelForCausalLM.from_pretrained(\"facebook/opt-125m\").to(device)\n",
    "outputs = model.generate(**inputs, assistant_model=assistant_model)\n",
    "tokenizer.batch_decode(outputs, skip_special_tokens=True)\n",
    "[\"Einstein's theory of relativity states that the speed of light is constant.    \"]"
   ]
  },
  {
   "cell_type": "markdown",
   "metadata": {},
   "source": [
    "# **Task 1.3**"
   ]
  },
  {
   "cell_type": "code",
   "execution_count": null,
   "metadata": {},
   "outputs": [],
   "source": [
    "from dash import Dash, html, dcc, callback, dash_table, Output, Input, State\n",
    "import plotly.express as px\n",
    "import dash_bootstrap_components as dbc\n",
    "\n",
    "df = pd.read_csv(\"Interactions Database.csv\")\n",
    "\n",
    "app = Dash(__name__)\n",
    "\n",
    "colors = {\n",
    "    'text': '#000000'\n",
    "}    \n",
    "\n",
    "app.layout = html.Div(children=[\n",
    "    html.H1(\n",
    "        children='Gestational Diabetes Drug-Drug Interactions',\n",
    "        style={\n",
    "            'textAlign': 'center',\n",
    "            'color': colors['text']\n",
    "        }\n",
    "    ),\n",
    "\n",
    "    html.Div([\n",
    "        dcc.Dropdown(\n",
    "            companies, \n",
    "            placeholder = \"Select a Company\",\n",
    "            id='companyDrop'\n",
    "        ),\n",
    "\n",
    "    html.Div(dcc.Graph(id='revenue')),\n",
    "    html.Div(dcc.Graph(id='operationIncome'))\n",
    "    ])\n",
    "])\n",
    "\n",
    "# @callback(\n",
    "#     Output('revenue', 'figure'),\n",
    "#     Input('companyID', 'value')\n",
    "# )\n",
    "\n",
    "# def updateMedicationGraph(currInteraction):\n",
    "#     temp = df.loc[df['Observed Drug-Drug Interaction'] == currInteraction]\n",
    "#     data = temp['Suspect Product Names']\n",
    "#     fig = px.histogram(data, x = \"Suspect Product Names\", title = 'Cases of Patients that Used Drugs')\n",
    "#     return fig\n",
    "\n",
    "# @callback(\n",
    "#     Output('severeInteraction', 'figure'),\n",
    "#     Input('currInteraction', 'value')\n",
    "# )\n",
    "\n",
    "# def updateSeverityGraph(currInteraction):\n",
    "#     temp = df.loc[df['Observed Drug-Drug Interaction'] == currInteraction]\n",
    "#     seriousData = temp['Serious']\n",
    "#     severeInteraction = px.histogram(seriousData, x = \"Serious\", title = \"Severity of Drug-Drug Interactions\")\n",
    "#     return severeInteraction\n",
    "\n",
    "if __name__ == '__main__':\n",
    "    app.run(debug=True)"
   ]
  }
 ],
 "metadata": {
  "kernelspec": {
   "display_name": "Python 3",
   "language": "python",
   "name": "python3"
  },
  "language_info": {
   "codemirror_mode": {
    "name": "ipython",
    "version": 3
   },
   "file_extension": ".py",
   "mimetype": "text/x-python",
   "name": "python",
   "nbconvert_exporter": "python",
   "pygments_lexer": "ipython3",
   "version": "3.9.6"
  }
 },
 "nbformat": 4,
 "nbformat_minor": 2
}
