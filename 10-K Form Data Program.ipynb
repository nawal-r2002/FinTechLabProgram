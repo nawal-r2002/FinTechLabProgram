{
 "cells": [
  {
   "cell_type": "code",
   "execution_count": null,
   "metadata": {},
   "outputs": [],
   "source": [
    "from sec_edgar_downloader import Downloader\n",
    "import os\n",
    "from bs4 import BeautifulSoup\n",
    "\n",
    "dl = Downloader(\"Company Name\", \"my.email@domain.com\")\n",
    "companies = [\"ADBE\", \"INTC\", \"MSFT\"]\n",
    "subdirectories = []\n",
    "\n",
    "for company in companies:\n",
    "    dl.get(\"10-K\", company, after = \"1995-01-01\", before = \"2024-01-01\")\n",
    "    path = \"sec-edgar-filings/\"+company+\"/10-K\"\n",
    "    temp = [d for d in os.listdir(path) if os.path.isdir(os.path.join(path, d))]\n",
    "    for i in range(len(temp)):\n",
    "        subdirectories.append(temp[i])\n",
    "\n",
    "subdirectories"
   ]
  }
 ],
 "metadata": {
  "language_info": {
   "name": "python"
  }
 },
 "nbformat": 4,
 "nbformat_minor": 2
}
