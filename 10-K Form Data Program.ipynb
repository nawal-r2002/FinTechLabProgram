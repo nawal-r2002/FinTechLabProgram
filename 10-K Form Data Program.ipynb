{
 "cells": [
  {
   "cell_type": "markdown",
   "metadata": {},
   "source": [
    "# **Task 1.1 - Download Files Scipt**\n",
    "Recieve 10-K Files from Adobe, Intel Corporation and Microsoft Corp"
   ]
  },
  {
   "cell_type": "code",
   "execution_count": 79,
   "metadata": {},
   "source": [
    "# **Task 1.1 - Download Files Scipt**\n",
    "Recieve 10-K Files from Adobe, Intel Corporation and Microsoft Corp"
   ]
  },
  {
   "cell_type": "code",
   "execution_count": 7,
   "metadata": {},
   "outputs": [
    {
     "ename": "FileNotFoundError",
     "evalue": "[WinError 3] The system cannot find the path specified: '10-K Files/ADBE'",
     "output_type": "error",
     "traceback": [
      "\u001b[1;31m---------------------------------------------------------------------------\u001b[0m",
      "\u001b[1;31mFileNotFoundError\u001b[0m                         Traceback (most recent call last)",
      "Cell \u001b[1;32mIn[7], line 41\u001b[0m\n\u001b[0;32m     39\u001b[0m     \u001b[38;5;28;01mfor\u001b[39;00m i \u001b[38;5;129;01min\u001b[39;00m \u001b[38;5;28mrange\u001b[39m(\u001b[38;5;28mlen\u001b[39m(temp)):\n\u001b[0;32m     40\u001b[0m         subdirectories\u001b[38;5;241m.\u001b[39mappend(temp[i])\n\u001b[1;32m---> 41\u001b[0m     \u001b[43mos\u001b[49m\u001b[38;5;241;43m.\u001b[39;49m\u001b[43mmkdir\u001b[49m\u001b[43m(\u001b[49m\u001b[38;5;124;43m\"\u001b[39;49m\u001b[38;5;124;43m10-K Files/\u001b[39;49m\u001b[38;5;124;43m\"\u001b[39;49m\u001b[38;5;241;43m+\u001b[39;49m\u001b[43mcompany\u001b[49m\u001b[43m)\u001b[49m\n\u001b[0;32m     43\u001b[0m \u001b[38;5;66;03m# make all files readable for interpretation\u001b[39;00m\n\u001b[0;32m     44\u001b[0m companyNum \u001b[38;5;241m=\u001b[39m \u001b[38;5;241m0\u001b[39m\n",
      "\u001b[1;31mFileNotFoundError\u001b[0m: [WinError 3] The system cannot find the path specified: '10-K Files/ADBE'"
     ]
    }
   ],
   "source": [
    "from sec_edgar_downloader import Downloader\n",
    "import os\n",
    "from bs4 import BeautifulSoup\n",
    "\n",
    "dl = Downloader(\"Company Name\", \"my.email@domain.com\")\n",
    "companies = [\"ADBE\", \"INTC\", \"MSFT\"]\n",
    "subdirectories = []"
   ]
  },
  {
   "cell_type": "code",
   "execution_count": 80,
   "metadata": {},
   "outputs": [
    {
     "name": "stdout",
     "output_type": "stream",
     "text": [
      "Error occurred while downloading filing for accession number {}: {} 0001032210-00-001961 404 Client Error: Not Found for url: https://www.sec.gov/Archives/edgar/data/789019/000103221000001961/0001.txt\n"
     ]
    }
   ],
   "source": [
    "for company in companies:\n",
    "    dl.get(\"10-K\", company, after = \"1995-01-01\", before = \"2024-01-01\")\n",
    "   \n",
    "    org_path = \"sec-edgar-filings/\"+company+\"/10-K/\"\n",
    "\n",
    "    for fileName in os.listdir(org_path):\n",
    "        if fileName.startswith(\"000\"):\n",
    "            newName = fileName[11:]\n",
    "            if (newName[0] == '9'):\n",
    "                newName = \"19\" + newName \n",
    "            else:\n",
    "                newName = \"20\" + newName\n",
    "            path = org_path + fileName\n",
    "            new_path= org_path + newName\n",
    "            if (os.path.exists(new_path)):\n",
    "                os.remove(path+\"/full-submission.txt\")\n",
    "                os.rmdir(path)\n",
    "            else:\n",
    "                os.rename(path, new_path)\n",
    "\n",
    "    temp = [d for d in os.listdir(org_path) if os.path.isdir(os.path.join(org_path, d))]\n",
    "    for i in range(len(temp)):\n",
    "        subdirectories.append(temp[i])\n",
    "    os.mkdir(\"10-K Files/\"+company)\n",
    "\n",
    "# make all files readable for interpretation\n",
    "companyNum = 0\n",
    "year = 1995\n",
    "fileName = \"/full-submission.txt\"\n",
    "for index, subdirectory in enumerate(subdirectories):\n",
    "    if (index % 29 == 0 and index != 0):\n",
    "        companyNum = companyNum + 1\n",
    "    path = \"sec-edgar-filings/\"+companies[companyNum]+\"/10-K/\"+subdirectory+fileName\n",
    "    # Open and read the content of file\n",
    "    with open(path, 'r', encoding='utf-8') as file:\n",
    "        filing_content = file.read()\n",
    "\n",
    "    soup = BeautifulSoup(filing_content, 'html.parser')\n",
    "\n",
    "    # Extract the entire text content\n",
    "    entire_content = soup.get_text()\n",
    "\n",
    "    #Save the content to a text file with a unique name\n",
    "    output_file_name = f\"/10k_{year}.txt\"  # Unique name based on index\n",
    "    if (year + 1 < 2024):\n",
    "        year += 1\n",
    "    else:\n",
    "        year = 1995\n",
    "    output_path = \"10-K Files/\"+companies[companyNum]\n",
    "    output_file_path = output_path + output_file_name\n",
    "    \n",
    "    with open(output_file_path, 'w', encoding='utf-8') as out_file:\n",
    "        out_file.write(entire_content)\n",
    "\n",
    "#     print(f\"Extracted and saved content from 10-K file {index + 1} to: {output_file_path}\")"
   ]
  },
  {
   "cell_type": "markdown",
   "metadata": {},
   "source": []
  },
  {
   "cell_type": "code",
   "execution_count": null,
   "metadata": {},
   "outputs": [],
   "source": []
  }
 ],
 "metadata": {
  "kernelspec": {
   "display_name": "Python 3",
   "language": "python",
   "name": "python3"
  },
  "language_info": {
   "codemirror_mode": {
    "name": "ipython",
    "version": 3
   },
   "file_extension": ".py",
   "mimetype": "text/x-python",
   "name": "python",
   "nbconvert_exporter": "python",
   "pygments_lexer": "ipython3",
   "version": "3.9.6"
  }
 },
 "nbformat": 4,
 "nbformat_minor": 2
}
